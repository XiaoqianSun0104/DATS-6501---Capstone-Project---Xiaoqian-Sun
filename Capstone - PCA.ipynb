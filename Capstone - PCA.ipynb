{
 "cells": [
  {
   "cell_type": "code",
   "execution_count": 1,
   "metadata": {},
   "outputs": [],
   "source": [
    "# import packages\n",
    "\n",
    "import numpy as np\n",
    "import pandas as pd\n",
    "from math import log2\n",
    "import plotly.plotly as py\n",
    "import matplotlib.pyplot as plt\n",
    "from sklearn.decomposition import PCA\n"
   ]
  },
  {
   "cell_type": "markdown",
   "metadata": {},
   "source": [
    "# Data Read and Process"
   ]
  },
  {
   "cell_type": "code",
   "execution_count": 2,
   "metadata": {},
   "outputs": [],
   "source": [
    "## Define data process funcitons:\n",
    "\n",
    "#standardize\n",
    "def Std(dataframe):\n",
    "    values = np.array(dataframe.values)\n",
    "    values_norm = [(x-np.mean(x))/(np.std(x)+0.0001) for x in values]\n",
    "    dataframe_std = pd.DataFrame(values_norm, columns = dataframe.columns, index = dataframe.index)\n",
    "    return(dataframe_std)"
   ]
  },
  {
   "cell_type": "code",
   "execution_count": 3,
   "metadata": {},
   "outputs": [],
   "source": [
    "# Read IR dataset\n",
    "def read_table(filename):\n",
    "    data = pd.read_table(filename)\n",
    "    data = data[['gene_id','gene_CIR_read_count','gene_CER_read_count',\n",
    "                           'gene_CIR_RPKM','gene_CER_RPKM','gene_IRI']]\n",
    "\n",
    "    data = data.sort_values('gene_CIR_RPKM',ascending= False).set_index('gene_id').replace([np.inf, -np.inf], np.nan).dropna()\n",
    "    data = data[data.gene_IRI != 0]\n",
    "    data = data[data.gene_IRI < 1]\n",
    "    data = data[data.gene_CER_RPKM > 1]\n",
    "    data = pd.DataFrame(data)\n",
    "    return (data)\n",
    "\n",
    "def read_csv(filename):\n",
    "    data = pd.read_csv(filename,delimiter=',')\n",
    "    data = data[['gene_id','gene_CIR_read_count','gene_CER_read_count',\n",
    "                           'gene_CIR_RPKM','gene_CER_RPKM','gene_IRI']]\n",
    "\n",
    "    data = data.sort_values('gene_CIR_RPKM',ascending= False).set_index('gene_id').replace([np.inf, -np.inf], np.nan).dropna()\n",
    "    data = data[data.gene_IRI != 0]\n",
    "    data = data[data.gene_IRI < 1]\n",
    "    data = data[data.gene_CER_RPKM > 1]\n",
    "    data = pd.DataFrame(data)\n",
    "    return (data)\n",
    "\n",
    "     \n",
    "L140_IR_sorted = read_csv('L140_sorted.quant.IRI.genes.csv')\n",
    "L149_IR_sorted = read_csv('L149_sorted.quant.IRI.genes.csv')\n",
    "L062_IR_sorted = read_csv('L062_sorted.quant.IRI.genes.csv')\n",
    "N048_IR_sorted = read_csv('N048_sorted.quant.IRI.genes.csv')\n",
    "N068_IR_sorted = read_table('N068_sorted.quant.IRI.genes.csv')\n",
    "N090_IR_sorted = read_csv('N090_sorted.quant.IRI.genes.csv')\n",
    "N098_IR_sorted = read_table('N098_sorted.quant.IRI.genes.csv')\n",
    "L005_IR_sorted = read_table('L005_sorted.quant.IRI.genes.csv')\n",
    "L027_IR_sorted = read_table('L027_sorted.quant.IRI.genes.csv')\n",
    "L031_IR_sorted = read_table('L031_sorted.quant.IRI.genes.csv')\n",
    "L072_IR_sorted = read_csv('L072_sorted.quant.IRI.genes.csv')\n",
    "L074_IR_sorted = read_table('L074_sorted.quant.IRI.genes.csv')\n",
    "L078_IR_sorted = read_table('L078_sorted.quant.IRI.genes.csv')\n",
    "L102_IR_sorted = read_table('L102_sorted.quant.IRI.genes.csv')\n",
    "L115_IR_sorted = read_csv('L115_sorted.quant.IRI.genes.csv')\n",
    "L133_IR_sorted = read_table('L133_sorted.quant.IRI.genes.csv')\n",
    "L137_IR_sorted = read_table('L137_sorted.quant.IRI.genes.csv')"
   ]
  },
  {
   "cell_type": "code",
   "execution_count": 4,
   "metadata": {},
   "outputs": [],
   "source": [
    "#Build function to get intersection dataframe for all samples\n",
    "Data_list = [L140_IR_sorted,L149_IR_sorted,L062_IR_sorted,N048_IR_sorted,\n",
    "             N068_IR_sorted,N090_IR_sorted,N098_IR_sorted,L005_IR_sorted,\n",
    "             L027_IR_sorted,L031_IR_sorted,L072_IR_sorted,L074_IR_sorted,\n",
    "             L078_IR_sorted,L102_IR_sorted,L115_IR_sorted,L133_IR_sorted,\n",
    "            L137_IR_sorted]\n",
    "\n",
    "Name_list = ['L140','L149','L062','N048','N068','N090','N098','L005','L027','L031','L072',\n",
    "             'L074','L078','L102','L115','L133','L137']\n",
    "\n",
    "#define function\n",
    "def get_dataframe(datalist, name_list, column_name):\n",
    "    gene_list = []\n",
    "    data_list = []\n",
    "    #get overlap gene list of all 16 samples\n",
    "    for data in datalist:\n",
    "        gene = data.index.tolist()\n",
    "        gene_list.append(gene)\n",
    "    gene_list = set.intersection(*map(set,gene_list))\n",
    "    \n",
    "    for data in datalist:\n",
    "        data = data.loc[gene_list]\n",
    "        data = data[column_name].values.tolist()\n",
    "        data_list.append(data)\n",
    "        \n",
    "    dataframe = pd.DataFrame(data_list).transpose()\n",
    "    dataframe.columns = Name_list \n",
    "    dataframe.index = gene_list\n",
    "    return(dataframe)"
   ]
  },
  {
   "cell_type": "code",
   "execution_count": 14,
   "metadata": {},
   "outputs": [
    {
     "data": {
      "text/html": [
       "<div>\n",
       "<style scoped>\n",
       "    .dataframe tbody tr th:only-of-type {\n",
       "        vertical-align: middle;\n",
       "    }\n",
       "\n",
       "    .dataframe tbody tr th {\n",
       "        vertical-align: top;\n",
       "    }\n",
       "\n",
       "    .dataframe thead th {\n",
       "        text-align: right;\n",
       "    }\n",
       "</style>\n",
       "<table border=\"1\" class=\"dataframe\">\n",
       "  <thead>\n",
       "    <tr style=\"text-align: right;\">\n",
       "      <th></th>\n",
       "      <th>L140</th>\n",
       "      <th>L149</th>\n",
       "      <th>L062</th>\n",
       "      <th>N048</th>\n",
       "      <th>N068</th>\n",
       "      <th>N090</th>\n",
       "      <th>N098</th>\n",
       "      <th>L005</th>\n",
       "      <th>L027</th>\n",
       "      <th>L031</th>\n",
       "      <th>L072</th>\n",
       "      <th>L074</th>\n",
       "      <th>L078</th>\n",
       "      <th>L102</th>\n",
       "      <th>L115</th>\n",
       "      <th>L133</th>\n",
       "      <th>L137</th>\n",
       "    </tr>\n",
       "  </thead>\n",
       "  <tbody>\n",
       "    <tr>\n",
       "      <th>AKR1B1</th>\n",
       "      <td>2.275980</td>\n",
       "      <td>1.121546</td>\n",
       "      <td>0.698359</td>\n",
       "      <td>0.342605</td>\n",
       "      <td>-0.051539</td>\n",
       "      <td>1.105617</td>\n",
       "      <td>1.440852</td>\n",
       "      <td>-0.866165</td>\n",
       "      <td>-0.809855</td>\n",
       "      <td>-1.003399</td>\n",
       "      <td>-0.400734</td>\n",
       "      <td>-0.815075</td>\n",
       "      <td>-0.957175</td>\n",
       "      <td>-0.694115</td>\n",
       "      <td>-0.995189</td>\n",
       "      <td>-0.594280</td>\n",
       "      <td>0.202566</td>\n",
       "    </tr>\n",
       "    <tr>\n",
       "      <th>DDX31</th>\n",
       "      <td>1.576893</td>\n",
       "      <td>2.706950</td>\n",
       "      <td>0.725431</td>\n",
       "      <td>-0.926769</td>\n",
       "      <td>-0.755028</td>\n",
       "      <td>-0.142468</td>\n",
       "      <td>-0.684563</td>\n",
       "      <td>-0.770882</td>\n",
       "      <td>0.223951</td>\n",
       "      <td>-0.274375</td>\n",
       "      <td>-0.305266</td>\n",
       "      <td>0.507360</td>\n",
       "      <td>-0.091804</td>\n",
       "      <td>-0.650611</td>\n",
       "      <td>0.031687</td>\n",
       "      <td>0.050074</td>\n",
       "      <td>-1.220581</td>\n",
       "    </tr>\n",
       "  </tbody>\n",
       "</table>\n",
       "</div>"
      ],
      "text/plain": [
       "            L140      L149      L062      N048      N068      N090      N098  \\\n",
       "AKR1B1  2.275980  1.121546  0.698359  0.342605 -0.051539  1.105617  1.440852   \n",
       "DDX31   1.576893  2.706950  0.725431 -0.926769 -0.755028 -0.142468 -0.684563   \n",
       "\n",
       "            L005      L027      L031      L072      L074      L078      L102  \\\n",
       "AKR1B1 -0.866165 -0.809855 -1.003399 -0.400734 -0.815075 -0.957175 -0.694115   \n",
       "DDX31  -0.770882  0.223951 -0.274375 -0.305266  0.507360 -0.091804 -0.650611   \n",
       "\n",
       "            L115      L133      L137  \n",
       "AKR1B1 -0.995189 -0.594280  0.202566  \n",
       "DDX31   0.031687  0.050074 -1.220581  "
      ]
     },
     "execution_count": 14,
     "metadata": {},
     "output_type": "execute_result"
    }
   ],
   "source": [
    "# get IRI dataset for all samples and get stadnardized IRI dataset\n",
    "Data_IRI = get_dataframe(Data_list,Name_list,'gene_IRI')\n",
    "Data_IRI.to_csv('Data_IRI.csv')\n",
    "\n",
    "#get gene list\n",
    "IRI_Gene_List = Data_IRI.index.values.tolist()\n",
    "\n",
    "Data_IRI_Std = Std(Data_IRI)\n",
    "Data_IRI_Std.head(2)\n"
   ]
  },
  {
   "cell_type": "markdown",
   "metadata": {},
   "source": [
    "# Build PCA"
   ]
  },
  {
   "cell_type": "code",
   "execution_count": 7,
   "metadata": {},
   "outputs": [],
   "source": [
    "# get inputs fro PCA\n",
    "X_T_IRI_Std = Data_IRI_Std.values.T.tolist()\n",
    "\n",
    "Y_T_IRI = Data_IRI.columns.tolist()\n",
    "Y_T_IRI_Names = Y_T_IRI\n",
    "Y_T_IRI = [1,1,2,0,0,0,0,2,1,2,1,1,1,1,1,1,1]\n",
    "Y_T_IRI  = np.asarray(Y_T_IRI)"
   ]
  },
  {
   "cell_type": "code",
   "execution_count": 8,
   "metadata": {},
   "outputs": [
    {
     "data": {
      "image/png": "[encoded data removed]",
      "text/plain": [
       "<Figure size 576x576 with 1 Axes>"
      ]
     },
     "metadata": {
      "needs_background": "light"
     },
     "output_type": "display_data"
    },
    {
     "name": "stdout",
     "output_type": "stream",
     "text": [
      "Explained variance ration\n",
      "[0.74825018 0.08616396]\n"
     ]
    }
   ],
   "source": [
    "# build PCA on IRI Std Dataset\n",
    "#whole gene IRI PCA on T-cell, Standardized Dataset\n",
    "X_T_IRI_Std_pca = PCA(n_components=2)\n",
    "X_T_IRI_Reduced_Std = X_T_IRI_Std_pca.fit_transform(X_T_IRI_Std)\n",
    "colors = ['red','blue','green']\n",
    "target_names = ['Active','Inactive','Control']\n",
    "    \n",
    "plt.figure(figsize=(8,8))\n",
    "for color, i, target_name in zip(colors, [1, 2, 0], target_names):\n",
    "    plt.scatter(X_T_IRI_Reduced_Std[Y_T_IRI == i, 0], X_T_IRI_Reduced_Std[Y_T_IRI == i, 1],\n",
    "                    color=color, lw = 2, label=target_name, alpha=0.75, s = 60,marker='o')\n",
    "\n",
    "for i, txt in enumerate(Y_T_IRI_Names):\n",
    "    plt.text(X_T_IRI_Reduced_Std[i][0], X_T_IRI_Reduced_Std[i][1], txt, fontsize=12,\n",
    "            verticalalignment='bottom',horizontalalignment='left')\n",
    "\n",
    "plt.title(\"PCA using IRI, Standardized Dataset\", fontsize = 14, fontweight = 'bold')\n",
    "plt.legend()\n",
    "plt.plot([56,56.1],[-40, 50], '-m' )\n",
    "plt.plot([-24,-24.1],[-40, 50], '-b' )\n",
    "\n",
    "plt.xlabel('PC1, 74.83%',fontsize = 14)\n",
    "plt.ylabel('PC2, 8.62%',fontsize = 14)\n",
    "\n",
    "plt.savefig(\"PCA using IRI, Standardized Dataset.png\", bbox_inches='tight', dpi=400)\n",
    "\n",
    "\n",
    "plt.show()\n",
    "print('Explained variance ration')\n",
    "print(X_T_IRI_Std_pca.explained_variance_ratio_)"
   ]
  },
  {
   "cell_type": "code",
   "execution_count": 9,
   "metadata": {},
   "outputs": [
    {
     "name": "stdout",
     "output_type": "stream",
     "text": [
      "Eignevalues 1: 5731.773472894479\n",
      "Eignevalues 2: 660.0363607180838\n",
      "Eignevalues 3: 222.42663502109022\n",
      " \n",
      "Explained variance ration\n",
      "[0.74825018 0.08616396 0.02903652 0.02613276 0.02131267]\n"
     ]
    },
    {
     "data": {
      "image/png": "[encoded data removed]",
      "text/plain": [
       "<Figure size 432x288 with 1 Axes>"
      ]
     },
     "metadata": {
      "needs_background": "light"
     },
     "output_type": "display_data"
    }
   ],
   "source": [
    "# get Eigenvalues distribution and check big drop from PC1 to PC2\n",
    "# analysize eigenvalue trend, WG_T_sp_Raw\n",
    "pca_IRI_T_Std_igen = PCA(n_components=12)\n",
    "X_T_Reduced_igen = pca_IRI_T_Std_igen.fit_transform(X_T_IRI_Std)\n",
    "eigen_values_list = pca_IRI_T_Std_igen.explained_variance_\n",
    "print('Eignevalues 1:', eigen_values_list[0])\n",
    "print('Eignevalues 2:', eigen_values_list[1])\n",
    "print('Eignevalues 3:', eigen_values_list[2])\n",
    "print(' ')\n",
    "print('Explained variance ration')\n",
    "print(pca_IRI_T_Std_igen.explained_variance_ratio_[:5])\n",
    "\n",
    "plt.ylabel('Eigenvalues')\n",
    "plt.xlabel('Number of Principle components')\n",
    "plt.title('PCA Using IRI, Eignevalues Disstribution',\n",
    "          fontsize = 14, fontweight = 'bold')\n",
    "\n",
    "plt.style.context('seaborn-whitegrid')\n",
    "\n",
    "plt.plot(eigen_values_list, color='blue', marker='o', linestyle='dashed')\n",
    "\n",
    "plt.savefig(\"PCA using IRI,Eignevalue.png\", bbox_inches='tight', dpi=400)\n",
    "\n",
    "plt.show()"
   ]
  },
  {
   "cell_type": "code",
   "execution_count": 10,
   "metadata": {},
   "outputs": [
    {
     "name": "stdout",
     "output_type": "stream",
     "text": [
      "Eigenvectors distribution:\n"
     ]
    },
    {
     "data": {
      "image/png": "[encoded data removed]",
      "text/plain": [
       "<Figure size 432x288 with 1 Axes>"
      ]
     },
     "metadata": {
      "needs_background": "light"
     },
     "output_type": "display_data"
    }
   ],
   "source": [
    "# get Eigenvector distribution\n",
    "print('Eigenvectors distribution:')\n",
    "plt.hist(X_T_IRI_Std_pca.components_[0], color = 'r', bins = 1000)\n",
    "plt.show()"
   ]
  },
  {
   "cell_type": "markdown",
   "metadata": {},
   "source": [
    "# Analysis PCA "
   ]
  },
  {
   "cell_type": "code",
   "execution_count": 12,
   "metadata": {},
   "outputs": [],
   "source": [
    "# define functions to locate gene along PC\n",
    "\n",
    "#Get top genes on positive side\n",
    "def up_locate_gene(PC, up_range, Gene_List):\n",
    "    PC = PC.tolist()\n",
    "    Locate = {}\n",
    "    Up_PC_Gene_List = []\n",
    "    for i in PC:\n",
    "        if i > up_range:\n",
    "            Locate.update({Gene_List[PC.index(i)]:i})\n",
    "            Up_PC_Gene_List.append(Gene_List[PC.index(i)])\n",
    "    return(Locate,Up_PC_Gene_List)\n",
    "\n",
    "\n",
    "#Get top genes on negative side\n",
    "def bottom_locate_gene(PC, down_range, Gene_List):\n",
    "    PC = PC.tolist()\n",
    "    Locate = {}\n",
    "    Bottom_PC_Gene_List = []\n",
    "    for i in PC:\n",
    "        if i < down_range:\n",
    "            Locate.update({Gene_List[PC.index(i)]:i})\n",
    "            Bottom_PC_Gene_List.append(Gene_List[PC.index(i)])\n",
    "    return(Locate,Bottom_PC_Gene_List)"
   ]
  },
  {
   "cell_type": "code",
   "execution_count": 15,
   "metadata": {},
   "outputs": [
    {
     "name": "stdout",
     "output_type": "stream",
     "text": [
      "Max in PC1: 0.013479838433660558\n",
      "Min in PC1: -0.011220785786141354\n",
      "# below 0: 58\n"
     ]
    }
   ],
   "source": [
    "#get PC1 structure\n",
    "\n",
    "X_T_IRI_Std_pca_PC1 = X_T_IRI_Std_pca.components_[0]\n",
    "print('Max in PC1:',X_T_IRI_Std_pca_PC1.max())\n",
    "print('Min in PC1:',X_T_IRI_Std_pca_PC1.min())\n",
    "print('# below 0:', len(bottom_locate_gene(X_T_IRI_Std_pca_PC1,-0.001,IRI_Gene_List)[0]))"
   ]
  },
  {
   "cell_type": "code",
   "execution_count": 16,
   "metadata": {},
   "outputs": [
    {
     "name": "stdout",
     "output_type": "stream",
     "text": [
      "Shape: (114, 1)\n"
     ]
    },
    {
     "data": {
      "text/html": [
       "<div>\n",
       "<style scoped>\n",
       "    .dataframe tbody tr th:only-of-type {\n",
       "        vertical-align: middle;\n",
       "    }\n",
       "\n",
       "    .dataframe tbody tr th {\n",
       "        vertical-align: top;\n",
       "    }\n",
       "\n",
       "    .dataframe thead tr th {\n",
       "        text-align: left;\n",
       "    }\n",
       "</style>\n",
       "<table border=\"1\" class=\"dataframe\">\n",
       "  <thead>\n",
       "    <tr>\n",
       "      <th></th>\n",
       "      <th>Eigenvector_value</th>\n",
       "      <th>L140_IRI</th>\n",
       "      <th>L149_IRI</th>\n",
       "      <th>L062_IRI</th>\n",
       "      <th>N048_IRI</th>\n",
       "      <th>N068_IRI</th>\n",
       "      <th>N090_IRI</th>\n",
       "      <th>N098_IRI</th>\n",
       "      <th>L005_IRI</th>\n",
       "      <th>L027_IRI</th>\n",
       "      <th>L031_IRI</th>\n",
       "      <th>L072_IRI</th>\n",
       "      <th>L074_IRI</th>\n",
       "      <th>L078_IRI</th>\n",
       "      <th>L102_IRI</th>\n",
       "      <th>L115_IRI</th>\n",
       "      <th>L133_IRI</th>\n",
       "      <th>L137_IRI</th>\n",
       "    </tr>\n",
       "  </thead>\n",
       "  <tbody>\n",
       "    <tr>\n",
       "      <th>PNPLA2</th>\n",
       "      <td>0.013388</td>\n",
       "      <td>1.993245</td>\n",
       "      <td>1.583367</td>\n",
       "      <td>1.154207</td>\n",
       "      <td>0.316915</td>\n",
       "      <td>0.199048</td>\n",
       "      <td>1.076072</td>\n",
       "      <td>1.179581</td>\n",
       "      <td>-0.952710</td>\n",
       "      <td>-0.884912</td>\n",
       "      <td>-1.078615</td>\n",
       "      <td>-0.468569</td>\n",
       "      <td>-0.898932</td>\n",
       "      <td>-0.867693</td>\n",
       "      <td>-0.850086</td>\n",
       "      <td>-0.826731</td>\n",
       "      <td>-0.636714</td>\n",
       "      <td>-0.037476</td>\n",
       "    </tr>\n",
       "    <tr>\n",
       "      <th>LMBRD2</th>\n",
       "      <td>0.013358</td>\n",
       "      <td>2.497363</td>\n",
       "      <td>1.441931</td>\n",
       "      <td>0.889234</td>\n",
       "      <td>0.286244</td>\n",
       "      <td>0.180925</td>\n",
       "      <td>0.922261</td>\n",
       "      <td>0.731165</td>\n",
       "      <td>-0.874958</td>\n",
       "      <td>-0.804738</td>\n",
       "      <td>-1.117493</td>\n",
       "      <td>-0.070487</td>\n",
       "      <td>-0.686241</td>\n",
       "      <td>-0.961628</td>\n",
       "      <td>-0.775308</td>\n",
       "      <td>-0.993557</td>\n",
       "      <td>-0.695722</td>\n",
       "      <td>0.031009</td>\n",
       "    </tr>\n",
       "  </tbody>\n",
       "</table>\n",
       "</div>"
      ],
      "text/plain": [
       "       Eigenvector_value  L140_IRI  L149_IRI  L062_IRI  N048_IRI  N068_IRI  \\\n",
       "PNPLA2          0.013388  1.993245  1.583367  1.154207  0.316915  0.199048   \n",
       "LMBRD2          0.013358  2.497363  1.441931  0.889234  0.286244  0.180925   \n",
       "\n",
       "        N090_IRI  N098_IRI  L005_IRI  L027_IRI  L031_IRI  L072_IRI  L074_IRI  \\\n",
       "PNPLA2  1.076072  1.179581 -0.952710 -0.884912 -1.078615 -0.468569 -0.898932   \n",
       "LMBRD2  0.922261  0.731165 -0.874958 -0.804738 -1.117493 -0.070487 -0.686241   \n",
       "\n",
       "        L078_IRI  L102_IRI  L115_IRI  L133_IRI  L137_IRI  \n",
       "PNPLA2 -0.867693 -0.850086 -0.826731 -0.636714 -0.037476  \n",
       "LMBRD2 -0.961628 -0.775308 -0.993557 -0.695722  0.031009  "
      ]
     },
     "execution_count": 16,
     "metadata": {},
     "output_type": "execute_result"
    }
   ],
   "source": [
    "#get top genes on positive side \n",
    "Locate_00133_IRI_T_Std_PC1 = up_locate_gene(X_T_IRI_Std_pca_PC1, 0.0133, IRI_Gene_List)\n",
    "A_00133 = Locate_00133_IRI_T_Std_PC1[0]\n",
    "A_00133 = pd.DataFrame.from_dict(A_00133,orient = 'index')\n",
    "A_00133.columns = ['Eigenvector_value']\n",
    "A_00133.to_csv('Std_T_IRI_PC1_00133.csv')\n",
    "print('Shape:', A_00133.shape)\n",
    "\n",
    "IRI_Std_PCA_00133 = A_00133.merge( Data_IRI_Std,right_index=True,left_index=True)\n",
    "IRI_Std_PCA_00133.columns = [['Eigenvector_value','L140_IRI','L149_IRI','L062_IRI','N048_IRI','N068_IRI','N090_IRI',\n",
    "                             'N098_IRI','L005_IRI','L027_IRI','L031_IRI','L072_IRI','L074_IRI','L078_IRI',\n",
    "                             'L102_IRI','L115_IRI','L133_IRI','L137_IRI']]\n",
    "IRI_Std_PCA_00133.head(2)\n",
    "#IRI_Std_PCA_00133.to_csv('IRI_Std_PCA_00133.csv')"
   ]
  },
  {
   "cell_type": "code",
   "execution_count": 19,
   "metadata": {},
   "outputs": [
    {
     "name": "stdout",
     "output_type": "stream",
     "text": [
      "Shape: (58, 1)\n"
     ]
    },
    {
     "data": {
      "text/html": [
       "<div>\n",
       "<style scoped>\n",
       "    .dataframe tbody tr th:only-of-type {\n",
       "        vertical-align: middle;\n",
       "    }\n",
       "\n",
       "    .dataframe tbody tr th {\n",
       "        vertical-align: top;\n",
       "    }\n",
       "\n",
       "    .dataframe thead tr th {\n",
       "        text-align: left;\n",
       "    }\n",
       "</style>\n",
       "<table border=\"1\" class=\"dataframe\">\n",
       "  <thead>\n",
       "    <tr>\n",
       "      <th></th>\n",
       "      <th>Eigenvector_value</th>\n",
       "      <th>L140_IRI</th>\n",
       "      <th>L149_IRI</th>\n",
       "      <th>L062_IRI</th>\n",
       "      <th>N048_IRI</th>\n",
       "      <th>N068_IRI</th>\n",
       "      <th>N090_IRI</th>\n",
       "      <th>N098_IRI</th>\n",
       "      <th>L005_IRI</th>\n",
       "      <th>L027_IRI</th>\n",
       "      <th>L031_IRI</th>\n",
       "      <th>L072_IRI</th>\n",
       "      <th>L074_IRI</th>\n",
       "      <th>L078_IRI</th>\n",
       "      <th>L102_IRI</th>\n",
       "      <th>L115_IRI</th>\n",
       "      <th>L133_IRI</th>\n",
       "      <th>L137_IRI</th>\n",
       "    </tr>\n",
       "  </thead>\n",
       "  <tbody>\n",
       "    <tr>\n",
       "      <th>CHST11</th>\n",
       "      <td>-0.001009</td>\n",
       "      <td>0.156068</td>\n",
       "      <td>-0.150249</td>\n",
       "      <td>-0.231562</td>\n",
       "      <td>-0.341406</td>\n",
       "      <td>-0.180381</td>\n",
       "      <td>-0.266795</td>\n",
       "      <td>-0.349712</td>\n",
       "      <td>-0.489938</td>\n",
       "      <td>3.796005</td>\n",
       "      <td>-0.463629</td>\n",
       "      <td>-0.308602</td>\n",
       "      <td>-0.335216</td>\n",
       "      <td>-0.096952</td>\n",
       "      <td>-0.244860</td>\n",
       "      <td>0.084254</td>\n",
       "      <td>-0.279485</td>\n",
       "      <td>-0.297541</td>\n",
       "    </tr>\n",
       "    <tr>\n",
       "      <th>PHF20</th>\n",
       "      <td>-0.003017</td>\n",
       "      <td>-0.117520</td>\n",
       "      <td>-0.184314</td>\n",
       "      <td>-0.456272</td>\n",
       "      <td>-0.053261</td>\n",
       "      <td>-0.588357</td>\n",
       "      <td>-0.174374</td>\n",
       "      <td>0.167836</td>\n",
       "      <td>1.947639</td>\n",
       "      <td>-0.482173</td>\n",
       "      <td>1.777443</td>\n",
       "      <td>-0.625146</td>\n",
       "      <td>-0.814908</td>\n",
       "      <td>-0.769724</td>\n",
       "      <td>-0.795889</td>\n",
       "      <td>2.261603</td>\n",
       "      <td>-0.767154</td>\n",
       "      <td>-0.325428</td>\n",
       "    </tr>\n",
       "  </tbody>\n",
       "</table>\n",
       "</div>"
      ],
      "text/plain": [
       "       Eigenvector_value  L140_IRI  L149_IRI  L062_IRI  N048_IRI  N068_IRI  \\\n",
       "CHST11         -0.001009  0.156068 -0.150249 -0.231562 -0.341406 -0.180381   \n",
       "PHF20          -0.003017 -0.117520 -0.184314 -0.456272 -0.053261 -0.588357   \n",
       "\n",
       "        N090_IRI  N098_IRI  L005_IRI  L027_IRI  L031_IRI  L072_IRI  L074_IRI  \\\n",
       "CHST11 -0.266795 -0.349712 -0.489938  3.796005 -0.463629 -0.308602 -0.335216   \n",
       "PHF20  -0.174374  0.167836  1.947639 -0.482173  1.777443 -0.625146 -0.814908   \n",
       "\n",
       "        L078_IRI  L102_IRI  L115_IRI  L133_IRI  L137_IRI  \n",
       "CHST11 -0.096952 -0.244860  0.084254 -0.279485 -0.297541  \n",
       "PHF20  -0.769724 -0.795889  2.261603 -0.767154 -0.325428  "
      ]
     },
     "execution_count": 19,
     "metadata": {},
     "output_type": "execute_result"
    }
   ],
   "source": [
    "#get botton genes on PC1 on negative side\n",
    "\n",
    "Locate_B_55_IRI_T_Std_PC1 = bottom_locate_gene(X_T_IRI_Std_pca_PC1,-0.001,IRI_Gene_List)\n",
    "A_B_55 = Locate_B_55_IRI_T_Std_PC1[0]\n",
    "A_B_55 = pd.DataFrame.from_dict(A_B_55,orient = 'index')\n",
    "A_B_55.columns = ['Eigenvector_value']\n",
    "#A_B_55.to_csv('Std_T_IRI_PC1_B_55.csv')\n",
    "print('Shape:', A_B_55.shape)\n",
    "\n",
    "\n",
    "IRI_Std_PCA_TBB_55 = A_B_55.merge( Data_IRI_Std,right_index=True,left_index=True)\n",
    "IRI_Std_PCA_TBB_55.columns = [['Eigenvector_value','L140_IRI','L149_IRI','L062_IRI','N048_IRI','N068_IRI','N090_IRI',\n",
    "                             'N098_IRI','L005_IRI','L027_IRI','L031_IRI','L072_IRI','L074_IRI','L078_IRI',\n",
    "                             'L102_IRI','L115_IRI','L133_IRI','L137_IRI']]\n",
    "IRI_Std_PCA_TBB_55.head(2)\n",
    "#IRI_Std_PCA_TBB_55.to_csv('IRI_Std_PCA_B_58.csv')\n"
   ]
  },
  {
   "cell_type": "code",
   "execution_count": null,
   "metadata": {},
   "outputs": [],
   "source": []
  }
 ],
 "metadata": {
  "kernelspec": {
   "display_name": "Python 3",
   "language": "python",
   "name": "python3"
  },
  "language_info": {
   "codemirror_mode": {
    "name": "ipython",
    "version": 3
   },
   "file_extension": ".py",
   "mimetype": "text/x-python",
   "name": "python",
   "nbconvert_exporter": "python",
   "pygments_lexer": "ipython3",
   "version": "3.7.1"
  }
 },
 "nbformat": 4,
 "nbformat_minor": 2
}
