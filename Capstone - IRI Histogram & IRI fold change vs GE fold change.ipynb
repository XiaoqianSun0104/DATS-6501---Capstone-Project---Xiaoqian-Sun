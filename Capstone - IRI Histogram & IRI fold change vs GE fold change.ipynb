{
 "cells": [
  {
   "cell_type": "code",
   "execution_count": 42,
   "metadata": {},
   "outputs": [],
   "source": [
    "import numpy as np\n",
    "import pandas as pd\n",
    "from math import log2\n",
    "import plotly.plotly as py\n",
    "import matplotlib.pyplot as plt\n",
    "import matplotlib.image as mpimg\n",
    "from matplotlib.gridspec import GridSpec\n",
    "import matplotlib.ticker as ticker\n",
    "import scipy.stats as ss\n",
    "from scipy import stats"
   ]
  },
  {
   "cell_type": "markdown",
   "metadata": {},
   "source": [
    "# IRI Histgram of T Cell "
   ]
  },
  {
   "cell_type": "code",
   "execution_count": 2,
   "metadata": {},
   "outputs": [],
   "source": [
    "# Read IRI Data File\n",
    "def read_table(filename):\n",
    "    data = pd.read_table(filename)\n",
    "    data = data[['gene_id','gene_CIR_read_count','gene_CER_read_count',\n",
    "                           'gene_CIR_RPKM','gene_CER_RPKM','gene_IRI']]\n",
    "\n",
    "    data = data.sort_values('gene_IRI',ascending= False).set_index('gene_id').replace([np.inf, -np.inf], np.nan).dropna()\n",
    "    data = data[data.gene_IRI != 0]\n",
    "    data = data[data.gene_IRI < 1]\n",
    "    data = data[data.gene_CER_RPKM > 1]\n",
    "    data = pd.DataFrame(data)\n",
    "    return (data)\n",
    "\n",
    "def read_csv(filename):\n",
    "    data = pd.read_csv(filename,delimiter=',')\n",
    "    data = data[['gene_id','gene_CIR_read_count','gene_CER_read_count',\n",
    "                           'gene_CIR_RPKM','gene_CER_RPKM','gene_IRI']]\n",
    "\n",
    "    data = data.sort_values('gene_IRI',ascending= False).set_index('gene_id').replace([np.inf, -np.inf], np.nan).dropna()\n",
    "    data = data[data.gene_IRI != 0]\n",
    "    data = data[data.gene_IRI < 1]\n",
    "    data = data[data.gene_CER_RPKM > 1]\n",
    "    data = pd.DataFrame(data)\n",
    "    return (data)\n",
    "\n",
    "     \n",
    "L140_IRI_sorted = read_csv('L140_sorted.quant.IRI.genes.csv')\n",
    "L149_IRI_sorted = read_csv('L149_sorted.quant.IRI.genes.csv')\n",
    "L062_IRI_sorted = read_csv('L062_sorted.quant.IRI.genes.csv')\n",
    "N048_IRI_sorted = read_csv('N048_sorted.quant.IRI.genes.csv')\n",
    "N068_IRI_sorted = read_table('N068_sorted.quant.IRI.genes.csv')\n",
    "N090_IRI_sorted = read_csv('N090_sorted.quant.IRI.genes.csv')\n",
    "N098_IRI_sorted = read_table('N098_sorted.quant.IRI.genes.csv')\n",
    "L005_IRI_sorted = read_table('L005_sorted.quant.IRI.genes.csv')\n",
    "L027_IRI_sorted = read_table('L027_sorted.quant.IRI.genes.csv')\n",
    "L031_IRI_sorted = read_table('L031_sorted.quant.IRI.genes.csv')\n",
    "L072_IRI_sorted = read_csv('L072_sorted.quant.IRI.genes.csv')\n",
    "L074_IRI_sorted = read_table('L074_sorted.quant.IRI.genes.csv')\n",
    "L078_IRI_sorted = read_table('L078_sorted.quant.IRI.genes.csv')\n",
    "L102_IRI_sorted = read_table('L102_sorted.quant.IRI.genes.csv')\n",
    "L115_IRI_sorted = read_csv('L115_sorted.quant.IRI.genes.csv')\n",
    "L133_IRI_sorted = read_table('L133_sorted.quant.IRI.genes.csv')\n",
    "L137_IRI_sorted = read_table('L137_sorted.quant.IRI.genes.csv')"
   ]
  },
  {
   "cell_type": "code",
   "execution_count": 3,
   "metadata": {},
   "outputs": [
    {
     "data": {
      "text/html": [
       "<div>\n",
       "<style scoped>\n",
       "    .dataframe tbody tr th:only-of-type {\n",
       "        vertical-align: middle;\n",
       "    }\n",
       "\n",
       "    .dataframe tbody tr th {\n",
       "        vertical-align: top;\n",
       "    }\n",
       "\n",
       "    .dataframe thead th {\n",
       "        text-align: right;\n",
       "    }\n",
       "</style>\n",
       "<table border=\"1\" class=\"dataframe\">\n",
       "  <thead>\n",
       "    <tr style=\"text-align: right;\">\n",
       "      <th></th>\n",
       "      <th>gene_CIR_read_count</th>\n",
       "      <th>gene_CER_read_count</th>\n",
       "      <th>gene_CIR_RPKM</th>\n",
       "      <th>gene_CER_RPKM</th>\n",
       "      <th>gene_IRI</th>\n",
       "    </tr>\n",
       "    <tr>\n",
       "      <th>gene_id</th>\n",
       "      <th></th>\n",
       "      <th></th>\n",
       "      <th></th>\n",
       "      <th></th>\n",
       "      <th></th>\n",
       "    </tr>\n",
       "  </thead>\n",
       "  <tbody>\n",
       "    <tr>\n",
       "      <th>TSSK4</th>\n",
       "      <td>422.377328</td>\n",
       "      <td>459.622672</td>\n",
       "      <td>4.598653</td>\n",
       "      <td>4.667457</td>\n",
       "      <td>0.985259</td>\n",
       "    </tr>\n",
       "    <tr>\n",
       "      <th>TREX2</th>\n",
       "      <td>83.221642</td>\n",
       "      <td>216.778358</td>\n",
       "      <td>2.130082</td>\n",
       "      <td>2.268034</td>\n",
       "      <td>0.939175</td>\n",
       "    </tr>\n",
       "  </tbody>\n",
       "</table>\n",
       "</div>"
      ],
      "text/plain": [
       "         gene_CIR_read_count  gene_CER_read_count  gene_CIR_RPKM  \\\n",
       "gene_id                                                            \n",
       "TSSK4             422.377328           459.622672       4.598653   \n",
       "TREX2              83.221642           216.778358       2.130082   \n",
       "\n",
       "         gene_CER_RPKM  gene_IRI  \n",
       "gene_id                           \n",
       "TSSK4         4.667457  0.985259  \n",
       "TREX2         2.268034  0.939175  "
      ]
     },
     "execution_count": 3,
     "metadata": {},
     "output_type": "execute_result"
    }
   ],
   "source": [
    "L140_IRI_sorted.head(2)"
   ]
  },
  {
   "cell_type": "markdown",
   "metadata": {},
   "source": [
    "### IRI Histogram"
   ]
  },
  {
   "cell_type": "code",
   "execution_count": 4,
   "metadata": {},
   "outputs": [],
   "source": [
    "# get datalist for each samples\n",
    "l062_iri = np.log2(L062_IRI_sorted['gene_IRI'].values)\n",
    "l140_iri = np.log2(L140_IRI_sorted['gene_IRI'].values)\n",
    "l149_iri = np.log2(L149_IRI_sorted['gene_IRI'].values)\n",
    "\n",
    "n048_iri = np.log2(N048_IRI_sorted['gene_IRI'].values)\n",
    "n068_iri = np.log2(N068_IRI_sorted['gene_IRI'].values)\n",
    "n090_iri = np.log2(N090_IRI_sorted['gene_IRI'].values)\n",
    "n098_iri = np.log2(N098_IRI_sorted['gene_IRI'].values)\n",
    "\n",
    "l072_iri = np.log2(L062_IRI_sorted['gene_IRI'].values)\n",
    "l137_iri = np.log2(L137_IRI_sorted['gene_IRI'].values)\n",
    "\n",
    "l074_iri = np.log2(L074_IRI_sorted['gene_IRI'].values)\n",
    "l078_iri = np.log2(L078_IRI_sorted['gene_IRI'].values)\n",
    "l005_iri = np.log2(L005_IRI_sorted['gene_IRI'].values)\n",
    "l031_iri = np.log2(L031_IRI_sorted['gene_IRI'].values)\n",
    "l133_iri = np.log2(L133_IRI_sorted['gene_IRI'].values)\n",
    "l027_iri = np.log2(L027_IRI_sorted['gene_IRI'].values)\n",
    "l102_iri = np.log2(L102_IRI_sorted['gene_IRI'].values)\n",
    "l115_iri = np.log2(L115_IRI_sorted['gene_IRI'].values)"
   ]
  },
  {
   "cell_type": "code",
   "execution_count": 5,
   "metadata": {},
   "outputs": [
    {
     "data": {
      "image/png": "[encoded data removed]",
      "text/plain": [
       "<Figure size 432x288 with 17 Axes>"
      ]
     },
     "metadata": {
      "needs_background": "light"
     },
     "output_type": "display_data"
    }
   ],
   "source": [
    "#define data list and plot the histogram\n",
    "data_iri = [l140_iri, l149_iri, l062_iri, n090_iri, n098_iri, n048_iri, n068_iri,\n",
    "       l137_iri, l072_iri, l027_iri, l133_iri, l074_iri, l102_iri, l115_iri, l078_iri, l005_iri, l031_iri,]\n",
    "data_name = [ 'L140', 'L149','L062','N090', 'N098','N048', 'N068', 'L137','L072',\n",
    "            'L027', 'L133', 'L074', 'L102', 'L115' , 'L078', 'L005', 'L031']\n",
    "colors = ['g','g','g','r','r','r','r','y','y','b','b','b','b','b','b','b','b']\n",
    "\n",
    "num_bin = 100\n",
    "alpha_trans = 0.5\n",
    "xmin = -15\n",
    "xmax = 0\n",
    "\n",
    "plt.figure()\n",
    "plt.title('IRI Distribution')\n",
    "for i in range(17):\n",
    "    plt.subplot(17, 1, i+1)\n",
    "    plt.hist(data_iri[i], num_bin, range=[xmin, xmax], alpha = alpha_trans, \n",
    "             label = data_name[i], facecolor=colors[i])\n",
    "    plt.plot([-5.0,-4.99],[-100, 500], '-r' )\n",
    "    #plt.plot([-6.0,-5.99],[-100, 500], '-g' )\n",
    "    #plt.plot([-7.0,-6.99],[-100, 500], '-b' )\n",
    "    #plt.plot([-8.0,-7.99],[-100, 500], '-p' )\n",
    "    plt.legend(loc = 2)\n",
    "    plt.ylim(0,500)\n",
    "    \n",
    "plt.xlabel('IRI(Log2) Distribution Comparison',fontsize = 14)\n",
    "\n",
    "plt.subplots_adjust(top = 3.2, bottom = 0.8, left = 0.1, right = 0.8)\n",
    "#plt.savefig(\"IRI_Distribution_All.png\", bbox_inches='tight', dpi=400)\n",
    "plt.show()    "
   ]
  },
  {
   "cell_type": "markdown",
   "metadata": {},
   "source": [
    "### IRI fold change VS CER fold change"
   ]
  },
  {
   "cell_type": "code",
   "execution_count": 6,
   "metadata": {},
   "outputs": [],
   "source": [
    "#define function to get datafram based on dataliset and column_name\n",
    "def get_dataframe(datalist, name_list, column_name):\n",
    "    gene_list = []\n",
    "    data_list = []\n",
    "    #get overlap gene list of all 16 samples\n",
    "    for data in datalist:\n",
    "        gene = data.index.tolist()\n",
    "        gene_list.append(gene)\n",
    "    gene_list = set.intersection(*map(set,gene_list))\n",
    "    \n",
    "    for data in datalist:\n",
    "        data = data.loc[gene_list]\n",
    "        data = data[column_name].values.tolist()\n",
    "        data_list.append(data)\n",
    "        \n",
    "    dataframe = pd.DataFrame(data_list).transpose()\n",
    "    dataframe.columns = name_list \n",
    "    dataframe.index = gene_list\n",
    "    return(dataframe)"
   ]
  },
  {
   "cell_type": "code",
   "execution_count": 7,
   "metadata": {},
   "outputs": [],
   "source": [
    "# get IRI and CER of differnect groups\n",
    "\n",
    "Data_list = [L140_IRI_sorted,L149_IRI_sorted,L062_IRI_sorted,N048_IRI_sorted,\n",
    "             N068_IRI_sorted,N090_IRI_sorted,N098_IRI_sorted,L005_IRI_sorted,\n",
    "             L027_IRI_sorted,L031_IRI_sorted,L072_IRI_sorted,L074_IRI_sorted,\n",
    "             L078_IRI_sorted,L102_IRI_sorted,L115_IRI_sorted,L133_IRI_sorted,\n",
    "            L137_IRI_sorted]\n",
    "Data_list_AL = [L140_IRI_sorted,L149_IRI_sorted,L062_IRI_sorted,L005_IRI_sorted,\n",
    "             L027_IRI_sorted,L031_IRI_sorted,L072_IRI_sorted,L074_IRI_sorted,\n",
    "             L078_IRI_sorted,L102_IRI_sorted,L115_IRI_sorted,L133_IRI_sorted,\n",
    "            L137_IRI_sorted]\n",
    "Data_list_4N = [N048_IRI_sorted,N068_IRI_sorted,N090_IRI_sorted,N098_IRI_sorted]\n",
    "\n",
    "\n",
    "Name_list = ['L140','L149','L062','N048','N068','N090','N098','L005','L027','L031','L072',\n",
    "             'L074','L078','L102','L115','L133','L137']\n",
    "Name_list_AL = ['L140','L149','L062','L005','L027','L031','L072',\n",
    "             'L074','L078','L102','L115','L133','L137']\n",
    "Name_list_4N = ['N048','N068','N090','N098']"
   ]
  },
  {
   "cell_type": "code",
   "execution_count": 8,
   "metadata": {},
   "outputs": [],
   "source": [
    "#get gene list for oevrlap genes\n",
    "data_name = [ 'L140', 'L149','L062','N090', 'N098','N048', 'N068', 'L137','L072',\n",
    "            'L027', 'L133', 'L074', 'L102', 'L115' , 'L078', 'L005', 'L031']\n",
    "\n",
    "Data_IRI = get_dataframe(Data_list,Name_list,'gene_IRI')\n",
    "IRI_Gene_List = Data_IRI.index.values.tolist()"
   ]
  },
  {
   "cell_type": "code",
   "execution_count": 48,
   "metadata": {},
   "outputs": [],
   "source": [
    "# get dataset\n",
    "Data_CER_4N = get_dataframe(Data_list_4N, Name_list_4N,'gene_CER_RPKM').loc[IRI_Gene_List]\n",
    "Data_CIR_4N = get_dataframe(Data_list_4N, Name_list_4N,'gene_CIR_RPKM').loc[IRI_Gene_List]\n",
    "Data_IRI_4N = get_dataframe(Data_list_4N, Name_list_4N,'gene_IRI').loc[IRI_Gene_List]\n",
    "\n",
    "Data_CER_AL = get_dataframe(Data_list_AL, Name_list_AL,'gene_CER_RPKM').loc[IRI_Gene_List]\n",
    "Data_CIR_AL = get_dataframe(Data_list_AL, Name_list_AL,'gene_CIR_RPKM').loc[IRI_Gene_List]\n",
    "Data_IRI_AL = get_dataframe(Data_list_AL, Name_list_AL,'gene_IRI').loc[IRI_Gene_List]\n",
    "\n",
    "Data_CER_4N['avg'] = np.mean(Data_CER_4N[Name_list_4N], axis=1)\n",
    "Data_CIR_4N['avg'] = np.mean(Data_CIR_4N[Name_list_4N], axis=1)\n",
    "Data_IRI_4N['avg'] = np.mean(Data_IRI_4N[Name_list_4N], axis=1)\n",
    "\n",
    "Data_CER_AL['avg'] = np.mean(Data_CER_AL[Name_list_AL], axis=1)\n",
    "Data_CIR_AL['avg'] = np.mean(Data_CIR_AL[Name_list_AL], axis=1)\n",
    "Data_IRI_AL['avg'] = np.mean(Data_IRI_AL[Name_list_AL], axis=1)\n",
    "\n",
    "Data_CER_4N['std'] = np.mean(Data_CER_4N[Name_list_4N], axis=1)\n",
    "Data_CIR_4N['std'] = np.mean(Data_CIR_4N[Name_list_4N], axis=1)\n",
    "Data_IRI_4N['std'] = np.mean(Data_IRI_4N[Name_list_4N], axis=1)\n",
    "\n",
    "Data_CER_AL['std'] = np.mean(Data_CER_AL[Name_list_AL], axis=1)\n",
    "Data_CIR_AL['std'] = np.mean(Data_CIR_AL[Name_list_AL], axis=1)\n",
    "Data_IRI_AL['std'] = np.mean(Data_IRI_AL[Name_list_AL], axis=1)"
   ]
  },
  {
   "cell_type": "code",
   "execution_count": 49,
   "metadata": {},
   "outputs": [
    {
     "name": "stdout",
     "output_type": "stream",
     "text": [
      "NLL Pearson correlation coefficient: -0.3366\n"
     ]
    },
    {
     "data": {
      "image/png": "[encoded data removed]",
      "text/plain": [
       "<Figure size 576x576 with 1 Axes>"
      ]
     },
     "metadata": {
      "needs_background": "light"
     },
     "output_type": "display_data"
    }
   ],
   "source": [
    "# get the plot reflecting IRI fold change and GE folod change\n",
    "# AL vs 4N, IRI/CER\n",
    "x = (Data_IRI_AL['avg']/Data_IRI_4N['avg'])\n",
    "y = (Data_CER_AL['avg']/Data_CER_4N['avg'])\n",
    "fig = plt.figure(figsize=(8,8))\n",
    "\n",
    "plt.title(\"Relationship between IRI and Gene Experssion fold change among All SLE Patients and Control\")\n",
    "plt.scatter(x,y, marker = 'o', facecolor='b')\n",
    "plt.plot([0.0625,8],[8,0.0625], '--r' )\n",
    "plt.yscale('log',basey = 2)\n",
    "plt.xscale('log',basex = 2)\n",
    "plt.xlim(0.05, 10)\n",
    "plt.ylim(0.05, 10)\n",
    "plt.xlabel(\"14L/4N IRI fold Change\")\n",
    "plt.ylabel(\"14L/4N Gene Expression fold Change\")\n",
    "plt.savefig(\"IRI_CER_fold_Change_AL_4N.png\", bbox_inches='tight', dpi=400)\n",
    "\n",
    "NLL_PC = ss.pearsonr(x,y)\n",
    "print('NLL Pearson correlation coefficient:',round(NLL_PC[0],4))\n",
    "\n",
    "plt.show()"
   ]
  },
  {
   "cell_type": "markdown",
   "metadata": {},
   "source": [
    "### IRI fold change box plot"
   ]
  },
  {
   "cell_type": "code",
   "execution_count": 50,
   "metadata": {},
   "outputs": [
    {
     "data": {
      "text/html": [
       "<div>\n",
       "<style scoped>\n",
       "    .dataframe tbody tr th:only-of-type {\n",
       "        vertical-align: middle;\n",
       "    }\n",
       "\n",
       "    .dataframe tbody tr th {\n",
       "        vertical-align: top;\n",
       "    }\n",
       "\n",
       "    .dataframe thead th {\n",
       "        text-align: right;\n",
       "    }\n",
       "</style>\n",
       "<table border=\"1\" class=\"dataframe\">\n",
       "  <thead>\n",
       "    <tr style=\"text-align: right;\">\n",
       "      <th></th>\n",
       "      <th>IRI_fold_change</th>\n",
       "      <th>CER_fold_change</th>\n",
       "    </tr>\n",
       "  </thead>\n",
       "  <tbody>\n",
       "    <tr>\n",
       "      <th>ATP1B3</th>\n",
       "      <td>-3.021577</td>\n",
       "      <td>0.332030</td>\n",
       "    </tr>\n",
       "    <tr>\n",
       "      <th>CD7</th>\n",
       "      <td>-2.788192</td>\n",
       "      <td>0.161289</td>\n",
       "    </tr>\n",
       "    <tr>\n",
       "      <th>SORD</th>\n",
       "      <td>-2.625102</td>\n",
       "      <td>0.524326</td>\n",
       "    </tr>\n",
       "  </tbody>\n",
       "</table>\n",
       "</div>"
      ],
      "text/plain": [
       "        IRI_fold_change  CER_fold_change\n",
       "ATP1B3        -3.021577         0.332030\n",
       "CD7           -2.788192         0.161289\n",
       "SORD          -2.625102         0.524326"
      ]
     },
     "execution_count": 50,
     "metadata": {},
     "output_type": "execute_result"
    }
   ],
   "source": [
    "# Build IRI fold change and Gene expression gold change dataframe\n",
    "x = np.log2((Data_IRI_AL['avg']/Data_IRI_4N['avg']))\n",
    "y = np.log2((Data_CER_AL['avg']/Data_CER_4N['avg']))\n",
    "\n",
    "IRI_CER_Fold_Change = pd.DataFrame({'IRI_fold_change':x,\n",
    "             'CER_fold_change':y})\n",
    "IRI_CER_Fold_Change = IRI_CER_Fold_Change.sort_values('IRI_fold_change')\n",
    "IRI_CER_Fold_Change.head(3)"
   ]
  },
  {
   "cell_type": "code",
   "execution_count": 51,
   "metadata": {},
   "outputs": [
    {
     "data": {
      "text/plain": [
       "[-1.49, -1.12, -0.93, -0.78, -0.65, -0.52, -0.38, -0.22, -0.03, 0.37]"
      ]
     },
     "execution_count": 51,
     "metadata": {},
     "output_type": "execute_result"
    }
   ],
   "source": [
    "#get data to plot the box plto\n",
    "IRI_CER_Fold_Change_10 = np.array_split(IRI_CER_Fold_Change, 10)\n",
    "IRI_Mean = []\n",
    "CER_List = []\n",
    "for chunk in IRI_CER_Fold_Change_10:\n",
    "    IRI_mean = round(np.mean(chunk['IRI_fold_change']),2)\n",
    "    IRI_Mean.append(IRI_mean)\n",
    "    \n",
    "    CER_list = chunk['CER_fold_change'].values.tolist()\n",
    "    CER_List.append(CER_list)\n",
    "IRI_Mean    "
   ]
  },
  {
   "cell_type": "code",
   "execution_count": 13,
   "metadata": {},
   "outputs": [
    {
     "data": {
      "image/png": "[encoded data removed]",
      "text/plain": [
       "<Figure size 864x576 with 1 Axes>"
      ]
     },
     "metadata": {
      "needs_background": "light"
     },
     "output_type": "display_data"
    }
   ],
   "source": [
    "# plot box plot\n",
    "fig = plt.figure(1, figsize=(12, 8))\n",
    "ax = fig.add_subplot(111)\n",
    "\n",
    "bp = ax.boxplot(CER_List, showfliers=False)\n",
    "for whisker in bp['whiskers']:\n",
    "    whisker.set(color='lightblue', linewidth=2)\n",
    "for box in bp['boxes']:\n",
    "    box.set( color='lightblue', linewidth=2) #change outline color\n",
    "    #box.set( facecolor = 'lightblue')# change fill color\n",
    "for cap in bp['caps']:\n",
    "    cap.set(color='lightblue', linewidth=2)#line color \n",
    "for flier in bp['fliers']:\n",
    "    flier.set(marker='o', color='#bff1bf', alpha=0.5)# outlier color\n",
    "\n",
    "ax.set_xticklabels(IRI_Mean, fontsize = 11)\n",
    "\n",
    "plt.xlabel(\"IRI(Log2) Fold Change\", fontsize = 14)\n",
    "plt.ylabel(\"Gene Expression(Log2) Fold Change\",fontsize = 14)\n",
    "\n",
    "plt.show()\n",
    "#fig.savefig('IRI_folc_change_box.png', bbox_inches='tight', dpi = 400)"
   ]
  },
  {
   "cell_type": "markdown",
   "metadata": {},
   "source": [
    "### example of deseased IR level and increased GE"
   ]
  },
  {
   "cell_type": "code",
   "execution_count": 52,
   "metadata": {},
   "outputs": [],
   "source": [
    "# Setup a plot such that only the bottom spine is shown\n",
    "def setup(ax,ylim):\n",
    "    ax.spines['right'].set_color('none')\n",
    "    ax.spines['top'].set_color('none')\n",
    "    #ax.spines['left'].set_color('none')\n",
    "    ax.xaxis.set_major_locator(ticker.NullLocator())\n",
    "    ax.yaxis.set_ticks_position('left')\n",
    "    ax.tick_params(which='major', width=1.00, length=5)\n",
    "    ax.tick_params(which='minor', width=0.75, length=2.5, labelsize=10)\n",
    "    ax.set_xlim(0, 2)\n",
    "    ax.set_ylim(0, ylim)\n",
    "    ax.patch.set_alpha(0.0)\n",
    "\n"
   ]
  },
  {
   "cell_type": "code",
   "execution_count": 53,
   "metadata": {},
   "outputs": [],
   "source": [
    "# define function plot significance annotation between two bars\n",
    "def barplot_annotate_brackets(num1, num2, data, center, height, yerr=None, dh=.05, barh=.05, fs=None, maxasterix=None):\n",
    "    \"\"\" \n",
    "    Annotate barplot with p-values.\n",
    "\n",
    "    :param num1: number of left bar to put bracket over\n",
    "    :param num2: number of right bar to put bracket over\n",
    "    :param data: string to write or number for generating asterixes\n",
    "    :param center: centers of all bars (like plt.bar() input)\n",
    "    :param height: heights of all bars (like plt.bar() input)\n",
    "    :param yerr: yerrs of all bars (like plt.bar() input)\n",
    "    :param dh: height offset over bar / bar + yerr in axes coordinates (0 to 1)\n",
    "    :param barh: bar height in axes coordinates (0 to 1)\n",
    "    :param fs: font size\n",
    "    :param maxasterix: maximum number of asterixes to write (for very small p-values)\n",
    "    \"\"\"\n",
    "\n",
    "    if type(data) is str:\n",
    "        text = data\n",
    "    else:\n",
    "        # * is p < 0.5\n",
    "        # ** is p < 0.05\n",
    "        # *** is p < 0.005\n",
    "        # etc.\n",
    "        text = ''\n",
    "        p = .5\n",
    "\n",
    "        while data < p:\n",
    "            text += '*'\n",
    "            p /= 10.\n",
    "\n",
    "            if maxasterix and len(text) == maxasterix:\n",
    "                break\n",
    "\n",
    "        if len(text) == 0:\n",
    "            text = 'n. s.'\n",
    "\n",
    "    lx, ly = center[num1], height[num1]\n",
    "    rx, ry = center[num2], height[num2]\n",
    "\n",
    "    if yerr:\n",
    "        ly += yerr[num1]\n",
    "        ry += yerr[num2]\n",
    "\n",
    "    ax_y0, ax_y1 = plt.gca().get_ylim()\n",
    "    dh *= (ax_y1 - ax_y0)\n",
    "    barh *= (ax_y1 - ax_y0)\n",
    "\n",
    "    y = max(ly, ry) + dh\n",
    "\n",
    "    barx = [lx, lx, rx, rx]\n",
    "    bary = [y, y+barh, y+barh, y]\n",
    "    mid = ((lx+rx)/2, y+barh)\n",
    "\n",
    "    plt.plot(barx, bary, c='black')\n",
    "\n",
    "    kwargs = dict(ha='center', va='bottom')\n",
    "    if fs is not None:\n",
    "        kwargs['fontsize'] = fs\n",
    "\n",
    "    plt.text(*mid, text, **kwargs)"
   ]
  },
  {
   "cell_type": "code",
   "execution_count": 54,
   "metadata": {},
   "outputs": [
    {
     "data": {
      "text/plain": [
       "Ttest_indResult(statistic=-6.0751492523467405, pvalue=2.3938584884208703e-05)"
      ]
     },
     "execution_count": 54,
     "metadata": {},
     "output_type": "execute_result"
    }
   ],
   "source": [
    "#Calculate p-value of t-test\n",
    "ttest_id = stats.ttest_ind(Data_CER_4N.loc['CLIC3'].values.tolist(),\n",
    "                           Data_CER_AL.loc['CLIC3'].values.tolist(),equal_var = False) \n",
    "ttest_id\n"
   ]
  },
  {
   "cell_type": "code",
   "execution_count": 60,
   "metadata": {},
   "outputs": [
    {
     "data": {
      "image/png": "[encoded data removed]",
      "text/plain": [
       "<Figure size 576x288 with 2 Axes>"
      ]
     },
     "metadata": {
      "needs_background": "light"
     },
     "output_type": "display_data"
    }
   ],
   "source": [
    "fig = plt.figure(figsize=(8, 4))\n",
    "#ax = fig.add_axes((0.1, 0.2, 0.8, 0.7))\n",
    "#ax = fig.add_subplot(1, 1, 1)\n",
    "gs = GridSpec(1, 2)\n",
    "\n",
    "ax = plt.subplot(gs[0,0])\n",
    "setup(ax,0.04)\n",
    "\n",
    "x = np.arange(4)\n",
    "bars = [0,Data_IRI_4N['avg'].loc['ISG15'],Data_IRI_AL['avg'].loc['ISG15'],0]\n",
    "#error = [0,Data_IRI_4N['std'].loc['ISG15'],Data_IRI_AL['std'].loc['ISG15'],0]\n",
    "#ttest_id = stats.ttest_ind(Data_IRI_4N['avg'].loc['ISG15'],Data_IRI_AL['avg'].loc['ISG15'])    \n",
    "#P-value = 0.015887\n",
    "#plt.bar(x, bars, yerr=error, align='center',capsize=8,\n",
    "        #ecolor='black',color=['white','orange', 'green','white'],width=0.5)\n",
    "plt.bar(x, bars,color=['white','orange', 'green','white'],width=0.5)\n",
    "\n",
    "ax.yaxis.set_major_locator(ticker.MultipleLocator(0.04))\n",
    "ax.yaxis.set_minor_locator(ticker.MultipleLocator(0.01))\n",
    "ax.yaxis.set_major_formatter(ticker.PercentFormatter(xmax=1))\n",
    "plt.title('ISG15', fontweight = 'bold')\n",
    "barplot_annotate_brackets(1, 2, 0.015, x, bars)\n",
    "plt.ylabel('% of retentioned intron',fontsize = 12)\n",
    "plt.xticks(x, ('','Controls', 'Patients',''),fontsize = 12)\n",
    "\n",
    "\n",
    "ax = plt.subplot(gs[0,1])\n",
    "setup(ax,8)\n",
    "\n",
    "x = np.arange(4)\n",
    "bars = [0,Data_CER_4N['avg'].loc['ISG15']/Data_CER_4N['avg'].loc['ISG15'],Data_CER_AL['avg'].loc['ISG15']/Data_CER_4N['avg'].loc['ISG15'],0]\n",
    "#error = [0,Data_CER_4N['std'].loc['ISG15']/Data_CER_4N['avg'].loc['ISG15'],Data_CER_AL['std'].loc['ISG15']/Data_CER_4N['avg'].loc['ISG15'],0]\n",
    "#P-value = 0.00055\n",
    "#plt.bar(x, bars, yerr=error, align='center',capsize=8,\n",
    "        #ecolor='black',color=['white','orange', 'green','white'],width=0.5)\n",
    "plt.bar(x, bars, color=['white','orange', 'green','white'],width=0.5)\n",
    "ax.xaxis.set_major_locator(ticker.MultipleLocator(1.00))\n",
    "ax.xaxis.set_minor_locator(ticker.MultipleLocator(0.25))\n",
    "ax.xaxis.set_major_formatter(ticker.StrMethodFormatter(\"{x}\"))\n",
    "plt.title('ISG15', fontweight = 'bold')\n",
    "barplot_annotate_brackets(1, 2, 0.00055, x, bars)\n",
    "plt.ylabel('Relative Gene Expression',fontsize = 12)\n",
    "plt.xticks(x, ('','Controls', 'Patients',''),fontsize = 12)\n",
    "\n",
    "#fig.savefig('IRI_CER_ISG15.png', bbox_inches='tight', dpi = 400)\n",
    "\n",
    "plt.show()\n",
    "\n",
    "\n"
   ]
  },
  {
   "cell_type": "markdown",
   "metadata": {},
   "source": [
    "# IRI histogram of Whole Blood Samples"
   ]
  },
  {
   "cell_type": "code",
   "execution_count": null,
   "metadata": {},
   "outputs": [],
   "source": [
    "# read whole blood data\n",
    "\n",
    "def read_file(filename):\n",
    "    data = pd.read_table(filename)\n",
    "    data = data[['gene_id','gene_CIR_read_count','gene_CER_read_count',\n",
    "                           'gene_CIR_RPKM','gene_CER_RPKM','gene_IRI']]\n",
    "    data = data.sort_values('gene_CIR_RPKM',ascending= False).set_index('gene_id').replace([np.inf, -np.inf], np.nan).dropna()\n",
    "    data = data[data.gene_IRI != 0]\n",
    "    data = data[data.gene_IRI < 1]\n",
    "    data = data[data.gene_CER_RPKM > 1]\n",
    "    data = pd.DataFrame(data)\n",
    "    return (data)\n",
    "     \n",
    "C61102_sorted = read_file('C61102_sorted.quant.IRI.genes.csv')\n",
    "C61929_sorted = read_file('C61929_sorted.quant.IRI.genes.csv')\n",
    "C63851_sorted = read_file('C63851_sorted.quant.IRI.genes.csv')\n",
    "C66947_sorted = read_file('C66947_sorted.quant.IRI.genes.csv')\n",
    "C67125_sorted = read_file('C67125_sorted.quant.IRI.genes.csv')\n",
    "C67345_sorted = read_file('C67345_sorted.quant.IRI.genes.csv')\n",
    "C71149_sorted = read_file('C71149_sorted.quant.IRI.genes.csv')\n",
    "C71175_sorted = read_file('C71175_sorted.quant.IRI.genes.csv')\n",
    "C71460_sorted = read_file('C71460_sorted.quant.IRI.genes.csv')\n",
    "C72516_sorted = read_file('C72516_sorted.quant.IRI.genes.csv')\n",
    "C72569_sorted = read_file('C72569_sorted.quant.IRI.genes.csv')\n",
    "C73816_sorted = read_file('C73816_sorted.quant.IRI.genes.csv')\n",
    "C75734_sorted = read_file('C75734_sorted.quant.IRI.genes.csv')\n",
    "C76082_sorted = read_file('C76082_sorted.quant.IRI.genes.csv')\n",
    "C76124_sorted = read_file('C76124_sorted.quant.IRI.genes.csv')\n",
    "C76797_sorted = read_file('C76797_sorted.quant.IRI.genes.csv')\n",
    "C77460_sorted = read_file('C77460_sorted.quant.IRI.genes.csv')\n",
    "C78371_sorted = read_file('C78371_sorted.quant.IRI.genes.csv')\n",
    "C78460_sorted = read_file('C78460_sorted.quant.IRI.genes.csv')\n",
    "C84040_sorted = read_file('C84040_sorted.quant.IRI.genes.csv')\n",
    "C84731_sorted = read_file('C84731_sorted.quant.IRI.genes.csv')\n",
    "C85644_sorted = read_file('C85644_sorted.quant.IRI.genes.csv')\n",
    "\n",
    "SB08_sorted = read_file('SB08_sorted.quant.IRI.genes.csv')\n",
    "SB09_sorted = read_file('SB09_sorted.quant.IRI.genes.csv')\n",
    "SB18_sorted = read_file('SB18_sorted.quant.IRI.genes.csv')\n",
    "SB27_sorted = read_file('SB27_sorted.quant.IRI.genes.csv')\n",
    "SB42_sorted = read_file('SB42_sorted.quant.IRI.genes.csv')\n",
    "SB48_sorted = read_file('SB48_sorted.quant.IRI.genes.csv')\n",
    "SB67_sorted = read_file('SB67_sorted.quant.IRI.genes.csv')\n",
    "SB71_sorted = read_file('SB71_sorted.quant.IRI.genes.csv')\n",
    "SB72_sorted = read_file('SB72_sorted.quant.IRI.genes.csv')\n",
    "SB83_sorted = read_file('SB83_sorted.quant.IRI.genes.csv')\n",
    "SB84_sorted = read_file('SB84_sorted.quant.IRI.genes.csv')\n",
    "SB87_sorted = read_file('SB87_sorted.quant.IRI.genes.csv')\n",
    "SB89_sorted = read_file('SB89_sorted.quant.IRI.genes.csv')\n",
    "SB100_sorted = read_file('SB100_sorted.quant.IRI.genes.csv')\n",
    "SB101_sorted = read_file('SB101_sorted.quant.IRI.genes.csv')\n",
    "SB103_sorted = read_file('SB103_sorted.quant.IRI.genes.csv')\n",
    "SB104_sorted = read_file('SB104_sorted.quant.IRI.genes.csv')\n",
    "SB105_sorted = read_file('SB105_sorted.quant.IRI.genes.csv')\n",
    "SB106_sorted = read_file('SB106_sorted.quant.IRI.genes.csv')\n",
    "SB107_sorted = read_file('SB107_sorted.quant.IRI.genes.csv')\n",
    "SB108_sorted = read_file('SB108_sorted.quant.IRI.genes.csv')\n",
    "SB109_sorted = read_file('SB109_sorted.quant.IRI.genes.csv')\n",
    "\n",
    "SB100_sorted.shape"
   ]
  },
  {
   "cell_type": "markdown",
   "metadata": {},
   "source": [
    "### IRI histogram "
   ]
  },
  {
   "cell_type": "code",
   "execution_count": null,
   "metadata": {},
   "outputs": [],
   "source": [
    "C61102_iri = np.log2(C61102_sorted['gene_IRI'].values)\n",
    "C61929_iri = np.log2(C61929_sorted['gene_IRI'].values)\n",
    "C63851_iri = np.log2(C63851_sorted['gene_IRI'].values)\n",
    "C66947_iri = np.log2(C66947_sorted['gene_IRI'].values)\n",
    "C67125_iri = np.log2(C67125_sorted['gene_IRI'].values)\n",
    "\n",
    "C67345_iri = np.log2(C67345_sorted['gene_IRI'].values)\n",
    "C71149_iri = np.log2(C71149_sorted['gene_IRI'].values)\n",
    "C71175_iri = np.log2(C71175_sorted['gene_IRI'].values)\n",
    "\n",
    "C71460_iri = np.log2(C71460_sorted['gene_IRI'].values)\n",
    "C72516_iri = np.log2(C72516_sorted['gene_IRI'].values)\n",
    "C72569_iri = np.log2(C72569_sorted['gene_IRI'].values)\n",
    "C73816_iri = np.log2(C73816_sorted['gene_IRI'].values)\n",
    "C75734_iri = np.log2(C75734_sorted['gene_IRI'].values)\n",
    "\n",
    "C76082_iri = np.log2(C76082_sorted['gene_IRI'].values)\n",
    "C76124_iri = np.log2(C76124_sorted['gene_IRI'].values)\n",
    "C76797_iri = np.log2(C76797_sorted['gene_IRI'].values)\n",
    "C77460_iri = np.log2(C77460_sorted['gene_IRI'].values)\n",
    "C78371_iri = np.log2(C78371_sorted['gene_IRI'].values)\n",
    "\n",
    "C78460_iri = np.log2(C78460_sorted['gene_IRI'].values)\n",
    "C84040_iri = np.log2(C84040_sorted['gene_IRI'].values)\n",
    "C84731_iri = np.log2(C84731_sorted['gene_IRI'].values)\n",
    "C85644_iri = np.log2(C85644_sorted['gene_IRI'].values)\n",
    "\n",
    "SB08_iri = np.log2(SB08_sorted['gene_IRI'].values)\n",
    "SB09_iri = np.log2(SB09_sorted['gene_IRI'].values)\n",
    "SB18_iri = np.log2(SB18_sorted['gene_IRI'].values)\n",
    "SB27_iri = np.log2(SB27_sorted['gene_IRI'].values)\n",
    "\n",
    "SB42_iri = np.log2(SB42_sorted['gene_IRI'].values)\n",
    "SB48_iri = np.log2(SB48_sorted['gene_IRI'].values)\n",
    "SB67_iri = np.log2(SB67_sorted['gene_IRI'].values)\n",
    "SB71_iri = np.log2(SB71_sorted['gene_IRI'].values)\n",
    "SB72_iri = np.log2(SB72_sorted['gene_IRI'].values)\n",
    "\n",
    "SB83_iri = np.log2(SB83_sorted['gene_IRI'].values)\n",
    "SB84_iri = np.log2(SB84_sorted['gene_IRI'].values)\n",
    "SB87_iri = np.log2(SB87_sorted['gene_IRI'].values)\n",
    "SB89_iri = np.log2(SB89_sorted['gene_IRI'].values)\n",
    "\n",
    "SB100_iri = np.log2(SB100_sorted['gene_IRI'].values)\n",
    "SB101_iri = np.log2(SB101_sorted['gene_IRI'].values)\n",
    "SB103_iri = np.log2(SB103_sorted['gene_IRI'].values)\n",
    "SB104_iri = np.log2(SB104_sorted['gene_IRI'].values)\n",
    "SB105_iri = np.log2(SB105_sorted['gene_IRI'].values)\n",
    "\n",
    "SB106_iri = np.log2(SB106_sorted['gene_IRI'].values)\n",
    "SB107_iri = np.log2(SB107_sorted['gene_IRI'].values)\n",
    "SB108_iri = np.log2(SB108_sorted['gene_IRI'].values)\n",
    "SB109_iri = np.log2(SB109_sorted['gene_IRI'].values)"
   ]
  },
  {
   "cell_type": "code",
   "execution_count": null,
   "metadata": {},
   "outputs": [],
   "source": [
    "data_iri = [C61102_iri, C61929_iri, C63851_iri, C66947_iri, C67125_iri, C67345_iri, \n",
    "            C71149_iri, C71175_iri, C71460_iri, C72516_iri, \n",
    "            C72569_iri, C73816_iri, C75734_iri, C76082_iri, C76124_iri, C76797_iri, \n",
    "            C77460_iri, C78371_iri, C78460_iri, C84040_iri, C84731_iri, C85644_iri]\n",
    "\n",
    "data_name = ['C61102', 'C61929', 'C63851', 'C66947', 'C67125', 'C67345', \n",
    "            'C71149', 'C71175', 'C71460', 'C72516',\n",
    "             'C72569',  'C73816', 'C75734', 'C76082', 'C76124', 'C76797', \n",
    "             'C77460',  'C78371', 'C78460', 'C84040', 'C84731', 'C85644']\n",
    "\n",
    "num_bin = 100\n",
    "alpha_trans = 0.5\n",
    "xmin = -10\n",
    "xmax = 0\n",
    "\n",
    "plt.figure()\n",
    "plt.title('IRI Distribution')\n",
    "for i in range(22):\n",
    "    plt.subplot(22, 1, i+1)\n",
    "    plt.hist(data_iri[i], num_bin, range=[xmin, xmax], alpha = alpha_trans, \n",
    "             label = data_name[i], facecolor='g')\n",
    "    plt.plot([-3,-2.99],[-100, 500], '-r' )\n",
    "    plt.legend(loc = 2)\n",
    "    plt.ylim(0,500)\n",
    "    \n",
    "plt.xlabel('Whole Blood Controls IRI(Log2)',fontsize = 14)\n",
    "\n",
    "plt.subplots_adjust(top = 3.2, bottom = 0.8, left = 0.1, right = 0.8)\n",
    "#plt.savefig(\"IRI_Distribution_All_C.png\", bbox_inches='tight', dpi=400)\n",
    "plt.show()    "
   ]
  },
  {
   "cell_type": "code",
   "execution_count": null,
   "metadata": {},
   "outputs": [],
   "source": [
    "data_iri = [SB08_iri, SB09_iri, SB18_iri, SB27_iri, SB42_iri, SB48_iri, \n",
    "            SB67_iri, SB71_iri, SB72_iri, SB83_iri, SB84_iri, SB87_iri, \n",
    "             SB89_iri, SB100_iri, SB101_iri, SB103_iri, SB104_iri, \n",
    "            SB105_iri, SB106_iri, SB107_iri, SB108_iri, SB109_iri]\n",
    "\n",
    "data_name = ['SB08', 'SB09', 'SB18', 'SB27', 'SB42', 'SB48', \n",
    "             'SB67', 'SB71', 'SB72', 'SB83', 'SB84', 'SB87',\n",
    "              'SB89', 'SB100', 'SB101', 'SB103', 'SB104', \n",
    "             'SB105',  'SB106', 'SB107', 'SB108', 'SB109']\n",
    "\n",
    "num_bin = 100\n",
    "alpha_trans = 0.5\n",
    "xmin = -10\n",
    "xmax = 0\n",
    "\n",
    "plt.figure()\n",
    "plt.title('IRI Distribution')\n",
    "for i in range(22):\n",
    "    plt.subplot(22, 1, i+1)\n",
    "    plt.hist(data_iri[i], num_bin, range=[xmin, xmax], alpha = alpha_trans, \n",
    "             label = data_name[i], facecolor='b')\n",
    "    plt.plot([-3,-2.99],[-100, 500], '-r' )\n",
    "    plt.legend(loc = 2)\n",
    "    plt.ylim(0,500)\n",
    "    \n",
    "plt.xlabel('Whole Blood SLE IRI(Log2)',fontsize = 14)\n",
    "\n",
    "plt.subplots_adjust(top = 3.2, bottom = 0.8, left = 0.1, right = 0.8)\n",
    "#plt.savefig(\"IRI_Distribution_All_SB.png\", bbox_inches='tight', dpi=400)\n",
    "plt.show()    "
   ]
  },
  {
   "cell_type": "code",
   "execution_count": null,
   "metadata": {},
   "outputs": [],
   "source": []
  },
  {
   "cell_type": "code",
   "execution_count": null,
   "metadata": {},
   "outputs": [],
   "source": []
  }
 ],
 "metadata": {
  "kernelspec": {
   "display_name": "Python 3",
   "language": "python",
   "name": "python3"
  },
  "language_info": {
   "codemirror_mode": {
    "name": "ipython",
    "version": 3
   },
   "file_extension": ".py",
   "mimetype": "text/x-python",
   "name": "python",
   "nbconvert_exporter": "python",
   "pygments_lexer": "ipython3",
   "version": "3.7.1"
  }
 },
 "nbformat": 4,
 "nbformat_minor": 2
}
