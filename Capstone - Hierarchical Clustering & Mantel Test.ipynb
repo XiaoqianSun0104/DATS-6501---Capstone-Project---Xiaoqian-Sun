{
 "cells": [
  {
   "cell_type": "code",
   "execution_count": 23,
   "metadata": {},
   "outputs": [],
   "source": [
    "# import packages\n",
    "\n",
    "import numpy as np\n",
    "import pandas as pd\n",
    "from math import log2\n",
    "\n",
    "import plotly.plotly as py\n",
    "import matplotlib.pyplot as plt\n",
    "\n",
    "from scipy.spatial import distance_matrix\n",
    "from skbio.stats.distance import mantel\n"
   ]
  },
  {
   "cell_type": "markdown",
   "metadata": {},
   "source": [
    "# Data and Hierarchical Clustering"
   ]
  },
  {
   "cell_type": "markdown",
   "metadata": {},
   "source": [
    "### HC with spliceosome dataset"
   ]
  },
  {
   "cell_type": "code",
   "execution_count": 3,
   "metadata": {},
   "outputs": [
    {
     "data": {
      "text/html": [
       "<div>\n",
       "<style scoped>\n",
       "    .dataframe tbody tr th:only-of-type {\n",
       "        vertical-align: middle;\n",
       "    }\n",
       "\n",
       "    .dataframe tbody tr th {\n",
       "        vertical-align: top;\n",
       "    }\n",
       "\n",
       "    .dataframe thead th {\n",
       "        text-align: right;\n",
       "    }\n",
       "</style>\n",
       "<table border=\"1\" class=\"dataframe\">\n",
       "  <thead>\n",
       "    <tr style=\"text-align: right;\">\n",
       "      <th></th>\n",
       "      <th>L027</th>\n",
       "      <th>L072</th>\n",
       "      <th>L078</th>\n",
       "      <th>L140</th>\n",
       "      <th>L102</th>\n",
       "      <th>L115</th>\n",
       "      <th>L133</th>\n",
       "      <th>L137</th>\n",
       "      <th>L149</th>\n",
       "      <th>L074</th>\n",
       "      <th>N048</th>\n",
       "      <th>N068</th>\n",
       "      <th>N090</th>\n",
       "      <th>N098</th>\n",
       "      <th>L005</th>\n",
       "      <th>L101</th>\n",
       "      <th>L062</th>\n",
       "      <th>L031</th>\n",
       "    </tr>\n",
       "    <tr>\n",
       "      <th>tracking_id</th>\n",
       "      <th></th>\n",
       "      <th></th>\n",
       "      <th></th>\n",
       "      <th></th>\n",
       "      <th></th>\n",
       "      <th></th>\n",
       "      <th></th>\n",
       "      <th></th>\n",
       "      <th></th>\n",
       "      <th></th>\n",
       "      <th></th>\n",
       "      <th></th>\n",
       "      <th></th>\n",
       "      <th></th>\n",
       "      <th></th>\n",
       "      <th></th>\n",
       "      <th></th>\n",
       "      <th></th>\n",
       "    </tr>\n",
       "  </thead>\n",
       "  <tbody>\n",
       "    <tr>\n",
       "      <th>A1BG</th>\n",
       "      <td>4.435260</td>\n",
       "      <td>5.657840</td>\n",
       "      <td>3.185390</td>\n",
       "      <td>5.61407</td>\n",
       "      <td>6.765170</td>\n",
       "      <td>13.623500</td>\n",
       "      <td>1.577440</td>\n",
       "      <td>5.999400</td>\n",
       "      <td>1.645410</td>\n",
       "      <td>2.911800</td>\n",
       "      <td>5.905030</td>\n",
       "      <td>4.80408</td>\n",
       "      <td>4.220070</td>\n",
       "      <td>4.861380</td>\n",
       "      <td>6.083660</td>\n",
       "      <td>5.253290</td>\n",
       "      <td>2.621310</td>\n",
       "      <td>5.155390</td>\n",
       "    </tr>\n",
       "    <tr>\n",
       "      <th>A1BG-AS1</th>\n",
       "      <td>0.488185</td>\n",
       "      <td>0.503268</td>\n",
       "      <td>0.382777</td>\n",
       "      <td>1.58335</td>\n",
       "      <td>0.586863</td>\n",
       "      <td>0.494335</td>\n",
       "      <td>0.218729</td>\n",
       "      <td>0.577714</td>\n",
       "      <td>0.609716</td>\n",
       "      <td>0.376244</td>\n",
       "      <td>0.352573</td>\n",
       "      <td>0.72128</td>\n",
       "      <td>0.677991</td>\n",
       "      <td>0.522991</td>\n",
       "      <td>0.419846</td>\n",
       "      <td>0.435078</td>\n",
       "      <td>0.811181</td>\n",
       "      <td>0.480418</td>\n",
       "    </tr>\n",
       "  </tbody>\n",
       "</table>\n",
       "</div>"
      ],
      "text/plain": [
       "                 L027      L072      L078     L140      L102       L115  \\\n",
       "tracking_id                                                               \n",
       "A1BG         4.435260  5.657840  3.185390  5.61407  6.765170  13.623500   \n",
       "A1BG-AS1     0.488185  0.503268  0.382777  1.58335  0.586863   0.494335   \n",
       "\n",
       "                 L133      L137      L149      L074      N048     N068  \\\n",
       "tracking_id                                                              \n",
       "A1BG         1.577440  5.999400  1.645410  2.911800  5.905030  4.80408   \n",
       "A1BG-AS1     0.218729  0.577714  0.609716  0.376244  0.352573  0.72128   \n",
       "\n",
       "                 N090      N098      L005      L101      L062      L031  \n",
       "tracking_id                                                              \n",
       "A1BG         4.220070  4.861380  6.083660  5.253290  2.621310  5.155390  \n",
       "A1BG-AS1     0.677991  0.522991  0.419846  0.435078  0.811181  0.480418  "
      ]
     },
     "execution_count": 3,
     "metadata": {},
     "output_type": "execute_result"
    }
   ],
   "source": [
    "## Define data process funcitons:\n",
    "\n",
    "#standardize\n",
    "def Std(dataframe):\n",
    "    values = np.array(dataframe.values)\n",
    "    values_norm = [(x-np.mean(x))/(np.std(x)+0.0001) for x in values]\n",
    "    dataframe_std = pd.DataFrame(values_norm, columns = dataframe.columns, index = dataframe.index)\n",
    "    return(dataframe_std)\n",
    "\n",
    "##Read data and deal with data\n",
    "#get T-cell dataframe\n",
    "data_T_cell = data = pd.read_csv('All_gene_new.csv')\n",
    "data_T_cell = data_T_cell.set_index('tracking_id')\n",
    "data_T_cell.head()\n",
    "#get gene list\n",
    "Gene_List = data_T_cell.index.values.tolist()\n",
    "\n",
    "data_T_cell.head(2)"
   ]
  },
  {
   "cell_type": "code",
   "execution_count": 5,
   "metadata": {},
   "outputs": [
    {
     "name": "stdout",
     "output_type": "stream",
     "text": [
      "Stnadardized spliceosome gene expression data shape: (145, 18)\n"
     ]
    }
   ],
   "source": [
    "# get spliceosome list\n",
    "splicesome = pd.read_csv(\"spliceosome.csv\")\n",
    "splicesome_list = set(splicesome['Approved Symbol'].values.tolist())\n",
    "splicesome_list = list(splicesome_list)\n",
    "splicesome_list = [sp.replace('ESS2', 'DGCR14') for sp in splicesome_list]\n",
    "\n",
    "data_T_cell_sp = data_T_cell.loc[splicesome_list]\n",
    "data_T_cell_sp_std = Std(data_T_cell_sp)\n",
    "print('Stnadardized spliceosome gene expression data shape:',data_T_cell_sp_std.shape)"
   ]
  },
  {
   "cell_type": "code",
   "execution_count": 7,
   "metadata": {},
   "outputs": [],
   "source": [
    "# reorder dataset to 4 control, 4 inactive, 10 active\n",
    "\n",
    "sample_label = ['N068', 'N048', 'N090', 'N098', 'L005', 'L101', 'L062', 'L031', 'L027', 'L072', 'L078', 'L140', 'L102', 'L115', 'L133', 'L137', 'L149', 'L074']\n",
    "data_T_cell_sp_std_reorder = data_T_cell_sp_std[sample_label]\n"
   ]
  },
  {
   "cell_type": "code",
   "execution_count": 8,
   "metadata": {},
   "outputs": [
    {
     "name": "stdout",
     "output_type": "stream",
     "text": [
      "{'Active': 'r', 'Inacive': 'b', 'Control': 'g'}\n"
     ]
    },
    {
     "data": {
      "image/png": "[encoded data removed]",
      "text/plain": [
       "<Figure size 648x1440 with 5 Axes>"
      ]
     },
     "metadata": {
      "needs_background": "light"
     },
     "output_type": "display_data"
    }
   ],
   "source": [
    "# produce the hierarchical clustering map\n",
    "\n",
    "import seaborn as sns\n",
    "import sys\n",
    "\n",
    "groups = []\n",
    "groups.extend(['Control']*4)\n",
    "groups.extend(['Inacive']*4)\n",
    "groups.extend(['Active']*10)\n",
    "lut = dict(zip(set(groups), \"rbg\"))\n",
    "print (lut)\n",
    "\n",
    "col_colors = [lut[x] for x in groups] #groups.map(lut)\n",
    "g = sns.clustermap(data_T_cell_sp_std_reorder, col_colors=col_colors, cmap = 'bwr', \n",
    "                   figsize=(9, 20)).fig.suptitle(\"Cluster Map Using 1.5-fold change genes \")\n",
    "\n",
    "#save the fig\n",
    "#plt.savefig(\"T_cell_fold1.5_std_cluster.png\", bbox_inches='tight', dpi=400)"
   ]
  },
  {
   "cell_type": "markdown",
   "metadata": {},
   "source": [
    "# Mantel Test"
   ]
  },
  {
   "cell_type": "markdown",
   "metadata": {},
   "source": [
    "# IRI STD HC VS IRI PC1 Top 100 HC"
   ]
  },
  {
   "cell_type": "code",
   "execution_count": 18,
   "metadata": {},
   "outputs": [],
   "source": [
    "# read dataset\n",
    "IRI_Std_PCA_Abs00133 = pd.read_csv('IRI_Std_PCA_Abs00133.csv')\n",
    "IRI_Std_PCA_Abs00133_T = IRI_Std_PCA_Abs00133.T\n",
    "\n",
    "Data_IRI = pd.read_csv('Data_IRI.csv')\n",
    "Data_IRI_T = Data_IRI.T"
   ]
  },
  {
   "cell_type": "code",
   "execution_count": 19,
   "metadata": {},
   "outputs": [
    {
     "data": {
      "text/html": [
       "<div>\n",
       "<style scoped>\n",
       "    .dataframe tbody tr th:only-of-type {\n",
       "        vertical-align: middle;\n",
       "    }\n",
       "\n",
       "    .dataframe tbody tr th {\n",
       "        vertical-align: top;\n",
       "    }\n",
       "\n",
       "    .dataframe thead th {\n",
       "        text-align: right;\n",
       "    }\n",
       "</style>\n",
       "<table border=\"1\" class=\"dataframe\">\n",
       "  <thead>\n",
       "    <tr style=\"text-align: right;\">\n",
       "      <th>Unnamed: 0</th>\n",
       "      <th>AKR1B1</th>\n",
       "      <th>DDX31</th>\n",
       "      <th>HNRNPUL1</th>\n",
       "      <th>NUP188</th>\n",
       "      <th>GANAB</th>\n",
       "      <th>RCBTB2</th>\n",
       "      <th>TRAK1</th>\n",
       "      <th>C9orf114</th>\n",
       "      <th>CLDND1</th>\n",
       "      <th>RIOK3</th>\n",
       "      <th>...</th>\n",
       "      <th>CENPC</th>\n",
       "      <th>A1BG</th>\n",
       "      <th>ZNF271</th>\n",
       "      <th>SERINC3</th>\n",
       "      <th>ZNF792</th>\n",
       "      <th>NOL8</th>\n",
       "      <th>DNAJC3</th>\n",
       "      <th>PEX6</th>\n",
       "      <th>HNRNPD</th>\n",
       "      <th>CARD16</th>\n",
       "    </tr>\n",
       "  </thead>\n",
       "  <tbody>\n",
       "    <tr>\n",
       "      <th>L140</th>\n",
       "      <td>0.0178707</td>\n",
       "      <td>0.00737709</td>\n",
       "      <td>0.00978578</td>\n",
       "      <td>0.0173507</td>\n",
       "      <td>0.0229099</td>\n",
       "      <td>0.0230641</td>\n",
       "      <td>0.00246477</td>\n",
       "      <td>0.167815</td>\n",
       "      <td>0.460945</td>\n",
       "      <td>0.027748</td>\n",
       "      <td>...</td>\n",
       "      <td>0.0223</td>\n",
       "      <td>0.15124</td>\n",
       "      <td>0.0286589</td>\n",
       "      <td>0.0294512</td>\n",
       "      <td>0.0327511</td>\n",
       "      <td>0.0541205</td>\n",
       "      <td>0.0032893</td>\n",
       "      <td>0.0580619</td>\n",
       "      <td>0.0632795</td>\n",
       "      <td>0.0011093</td>\n",
       "    </tr>\n",
       "    <tr>\n",
       "      <th>L149</th>\n",
       "      <td>0.011752</td>\n",
       "      <td>0.0095192</td>\n",
       "      <td>0.00612603</td>\n",
       "      <td>0.0172242</td>\n",
       "      <td>0.01198</td>\n",
       "      <td>0.0223744</td>\n",
       "      <td>0.00169604</td>\n",
       "      <td>0.157498</td>\n",
       "      <td>0.398864</td>\n",
       "      <td>0.0218264</td>\n",
       "      <td>...</td>\n",
       "      <td>0.0169514</td>\n",
       "      <td>0.222164</td>\n",
       "      <td>0.0238128</td>\n",
       "      <td>0.020852</td>\n",
       "      <td>0.0178764</td>\n",
       "      <td>0.0357049</td>\n",
       "      <td>0.00210785</td>\n",
       "      <td>0.0480664</td>\n",
       "      <td>0.039978</td>\n",
       "      <td>0.00158479</td>\n",
       "    </tr>\n",
       "  </tbody>\n",
       "</table>\n",
       "<p>2 rows × 7650 columns</p>\n",
       "</div>"
      ],
      "text/plain": [
       "Unnamed: 0     AKR1B1       DDX31    HNRNPUL1     NUP188      GANAB  \\\n",
       "L140        0.0178707  0.00737709  0.00978578  0.0173507  0.0229099   \n",
       "L149         0.011752   0.0095192  0.00612603  0.0172242    0.01198   \n",
       "\n",
       "Unnamed: 0     RCBTB2       TRAK1  C9orf114    CLDND1      RIOK3     ...      \\\n",
       "L140        0.0230641  0.00246477  0.167815  0.460945   0.027748     ...       \n",
       "L149        0.0223744  0.00169604  0.157498  0.398864  0.0218264     ...       \n",
       "\n",
       "Unnamed: 0      CENPC      A1BG     ZNF271    SERINC3     ZNF792       NOL8  \\\n",
       "L140           0.0223   0.15124  0.0286589  0.0294512  0.0327511  0.0541205   \n",
       "L149        0.0169514  0.222164  0.0238128   0.020852  0.0178764  0.0357049   \n",
       "\n",
       "Unnamed: 0      DNAJC3       PEX6     HNRNPD      CARD16  \n",
       "L140         0.0032893  0.0580619  0.0632795   0.0011093  \n",
       "L149        0.00210785  0.0480664   0.039978  0.00158479  \n",
       "\n",
       "[2 rows x 7650 columns]"
      ]
     },
     "execution_count": 19,
     "metadata": {},
     "output_type": "execute_result"
    }
   ],
   "source": [
    "# deal with Datafram used to calculate distance matrix\n",
    "new_header = IRI_Std_PCA_Abs00133_T.iloc[0] #grab the first row for the header\n",
    "IRI_Std_PCA_Abs00133_T = IRI_Std_PCA_Abs00133_T[1:] #take the data less the header row\n",
    "IRI_Std_PCA_Abs00133_T.columns = new_header\n",
    "IRI_Std_PCA_Abs00133_T = IRI_Std_PCA_Abs00133_T.drop('Eigenvector_value')\n",
    "\n",
    "new_header = Data_IRI_T.iloc[0] #grab the first row for the header\n",
    "Data_IRI_T = Data_IRI_T[1:] #take the data less the header row\n",
    "Data_IRI_T.columns = new_header\n",
    "\n",
    "Data_IRI_T.head(2)"
   ]
  },
  {
   "cell_type": "code",
   "execution_count": 22,
   "metadata": {},
   "outputs": [
    {
     "name": "stdout",
     "output_type": "stream",
     "text": [
      "(17, 17)\n",
      "(17, 17)\n"
     ]
    }
   ],
   "source": [
    "# calculate distance matrix\n",
    "IRI_Std_PCA_Abs00133_DM = pd.DataFrame(distance_matrix(IRI_Std_PCA_Abs00133_T.values, IRI_Std_PCA_Abs00133_T.values), \n",
    "                                     index=IRI_Std_PCA_Abs00133_T.index, \n",
    "                                     columns=IRI_Std_PCA_Abs00133_T.index)\n",
    "print(IRI_Std_PCA_Abs00133_DM.shape)\n",
    "\n",
    "Data_IRI_DM = pd.DataFrame(distance_matrix(Data_IRI_T.values, Data_IRI_T.values), \n",
    "                                     index=Data_IRI_T.index, \n",
    "                                     columns=Data_IRI_T.index)\n",
    "print(Data_IRI_DM.shape)\n"
   ]
  },
  {
   "cell_type": "code",
   "execution_count": 24,
   "metadata": {},
   "outputs": [
    {
     "name": "stdout",
     "output_type": "stream",
     "text": [
      "coffeience =  0.9832\n",
      "P-value =  0.0003\n",
      "Thus, we see a strong positive correlation between the two matrices.\n"
     ]
    }
   ],
   "source": [
    "# apply mantel test\n",
    "coeff, p_value, n = mantel(IRI_Std_PCA_Abs00133_DM, Data_IRI_DM,\n",
    "                           permutations=3000, alternative='two-sided', method = 'pearson')\n",
    "print('coffeience = ',round(coeff, 4))\n",
    "print('P-value = ',round(p_value,4))\n",
    "print('Thus, we see a strong positive correlation between the two matrices.')"
   ]
  },
  {
   "cell_type": "code",
   "execution_count": null,
   "metadata": {},
   "outputs": [],
   "source": []
  },
  {
   "cell_type": "code",
   "execution_count": null,
   "metadata": {},
   "outputs": [],
   "source": []
  }
 ],
 "metadata": {
  "kernelspec": {
   "display_name": "Python 3",
   "language": "python",
   "name": "python3"
  },
  "language_info": {
   "codemirror_mode": {
    "name": "ipython",
    "version": 3
   },
   "file_extension": ".py",
   "mimetype": "text/x-python",
   "name": "python",
   "nbconvert_exporter": "python",
   "pygments_lexer": "ipython3",
   "version": "3.7.1"
  }
 },
 "nbformat": 4,
 "nbformat_minor": 2
}
